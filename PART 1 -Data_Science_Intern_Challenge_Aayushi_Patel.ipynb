{
 "cells": [
  {
   "cell_type": "code",
   "execution_count": 1,
   "id": "76015e08-af82-48cb-a133-b5384e1067e2",
   "metadata": {},
   "outputs": [],
   "source": [
    "#Summer 2022 Data Science Intern Challenge"
   ]
  },
  {
   "cell_type": "code",
   "execution_count": 2,
   "id": "75335a01-6bf8-4c24-a4ce-0dd407a524ec",
   "metadata": {},
   "outputs": [],
   "source": [
    "import numpy as np\n",
    "import pandas as pd\n",
    "import matplotlib.pyplot as plt\n",
    "import seaborn as sns"
   ]
  },
  {
   "cell_type": "code",
   "execution_count": 3,
   "id": "f79f6a3b-849e-4725-9f6b-4b7d306947d7",
   "metadata": {},
   "outputs": [],
   "source": [
    "data_frame = pd.read_csv(\"2019 Winter Data Science Intern Challenge Data Set.csv\")\n"
   ]
  },
  {
   "cell_type": "code",
   "execution_count": 4,
   "id": "005b5e16-5f55-4775-99a9-7bb65928021d",
   "metadata": {},
   "outputs": [],
   "source": [
    "# a. Think about what could be going wrong with our calculation. Think about a better way to evaluate this data."
   ]
  },
  {
   "cell_type": "code",
   "execution_count": 5,
   "id": "85bbb1fd-bf93-46b9-a576-e3f3642f989e",
   "metadata": {},
   "outputs": [
    {
     "data": {
      "text/plain": [
       "'\\n    I think that the AOV = 3145.128000 is wrong because of the following reasons\\n    1. Outliers might be skewing data\\n        We can check this by looking at the standard deviation, box plot, comparing max and min order_amount\\n    2. Bulk Transactions might be skewing data \\n        a) we need to check the frequency of total_items\\n        b) We need to check where order_amount is exceptionally high\\n'"
      ]
     },
     "execution_count": 5,
     "metadata": {},
     "output_type": "execute_result"
    }
   ],
   "source": [
    "#  HYPOTHESIS\n",
    "\"\"\"\n",
    "    I think that the AOV = 3145.128000 is wrong because of the following reasons\n",
    "    1. Outliers might be skewing data\n",
    "        We can check this by looking at the standard deviation, box plot, comparing max and min order_amount\n",
    "    2. Bulk Transactions might be skewing data \n",
    "        a) we need to check the frequency of total_items\n",
    "        b) We need to check where order_amount is exceptionally high\n",
    "\"\"\""
   ]
  },
  {
   "cell_type": "code",
   "execution_count": 6,
   "id": "65572a20-6bf7-4098-aeee-4e3ed271224b",
   "metadata": {},
   "outputs": [
    {
     "name": "stdout",
     "output_type": "stream",
     "text": [
      "count      5000.000000\n",
      "mean       3145.128000\n",
      "std       41282.539349\n",
      "min          90.000000\n",
      "25%         163.000000\n",
      "50%         284.000000\n",
      "75%         390.000000\n",
      "max      704000.000000\n",
      "Name: order_amount, dtype: float64\n"
     ]
    }
   ],
   "source": [
    "print (data_frame.order_amount.describe())"
   ]
  },
  {
   "cell_type": "code",
   "execution_count": 7,
   "id": "9a020e61-5f02-4b68-b549-3a4220f92d6d",
   "metadata": {},
   "outputs": [],
   "source": [
    "# We can confirm that the wrong calculation for AOV is in fact the mean of order_amount.\n",
    "# The above data supports hypothesis 1. as the standard deviation is very high and the difference between the max and min is also a lot."
   ]
  },
  {
   "cell_type": "code",
   "execution_count": 8,
   "id": "5100db84-a1ec-41a0-8211-d30ff829e2cd",
   "metadata": {},
   "outputs": [],
   "source": [
    "#We can confirm the same with a box plot"
   ]
  },
  {
   "cell_type": "code",
   "execution_count": 9,
   "id": "b32dbb51-e457-48ed-8270-6c814dc0c1df",
   "metadata": {},
   "outputs": [
    {
     "data": {
      "image/png": "[encoded data removed]",
      "text/plain": [
       "<Figure size 640x480 with 1 Axes>"
      ]
     },
     "metadata": {},
     "output_type": "display_data"
    }
   ],
   "source": [
    "sns.boxplot(x=data_frame['order_amount'])\n",
    "plt.show()"
   ]
  },
  {
   "cell_type": "code",
   "execution_count": 10,
   "id": "f8cb13f4-07ef-4285-b13a-720217620f8a",
   "metadata": {},
   "outputs": [],
   "source": [
    "# We can see that the boxplot is a line on 0, this implies that there are many outliers with significant deviation which supports out hypothesis again."
   ]
  },
  {
   "cell_type": "code",
   "execution_count": 11,
   "id": "ee6f161e-2f3f-4486-9ddb-cc515c7923df",
   "metadata": {},
   "outputs": [],
   "source": [
    "# Hypothesis 2"
   ]
  },
  {
   "cell_type": "code",
   "execution_count": 12,
   "id": "7f1e6c19-0355-4163-82c3-02b1e6ea1926",
   "metadata": {},
   "outputs": [
    {
     "data": {
      "image/png": "[encoded data removed]",
      "text/plain": [
       "<Figure size 640x480 with 1 Axes>"
      ]
     },
     "metadata": {},
     "output_type": "display_data"
    }
   ],
   "source": [
    "sns.countplot(x=\"total_items\", data= data_frame)\n",
    "plt.show()"
   ]
  },
  {
   "cell_type": "code",
   "execution_count": 13,
   "id": "eb462d0c-5856-4f09-a80f-3613d55c8e41",
   "metadata": {},
   "outputs": [
    {
     "name": "stdout",
     "output_type": "stream",
     "text": [
      "[(1, 1830), (2, 1832), (3, 941), (4, 293), (5, 77), (6, 9), (8, 1), (2000, 17)]\n"
     ]
    }
   ],
   "source": [
    "dict1 = data_frame['total_items'].value_counts().to_dict()\n",
    "l1 = (list(dict1.items()))\n",
    "l1.sort()\n",
    "print (l1)"
   ]
  },
  {
   "cell_type": "code",
   "execution_count": 14,
   "id": "ba0aad1b-920a-4cb7-a1f6-626ca9bb9273",
   "metadata": {},
   "outputs": [],
   "source": [
    "#We see in the graph and dictionary that the frequency of total_items is significantly decraesing. Hence, the data points when total_items>5 could be outliers. We will confirm that by also looking at order_amount"
   ]
  },
  {
   "cell_type": "code",
   "execution_count": 15,
   "id": "c7accd67-6ed4-415c-9990-512a39293e54",
   "metadata": {},
   "outputs": [
    {
     "name": "stdout",
     "output_type": "stream",
     "text": [
      "      order_id  shop_id  user_id  order_amount  total_items payment_method  \\\n",
      "2153      2154       42      607        704000         2000    credit_card   \n",
      "3332      3333       42      607        704000         2000    credit_card   \n",
      "520        521       42      607        704000         2000    credit_card   \n",
      "1602      1603       42      607        704000         2000    credit_card   \n",
      "60          61       42      607        704000         2000    credit_card   \n",
      "2835      2836       42      607        704000         2000    credit_card   \n",
      "4646      4647       42      607        704000         2000    credit_card   \n",
      "2297      2298       42      607        704000         2000    credit_card   \n",
      "1436      1437       42      607        704000         2000    credit_card   \n",
      "4882      4883       42      607        704000         2000    credit_card   \n",
      "4056      4057       42      607        704000         2000    credit_card   \n",
      "15          16       42      607        704000         2000    credit_card   \n",
      "1104      1105       42      607        704000         2000    credit_card   \n",
      "1562      1563       42      607        704000         2000    credit_card   \n",
      "2969      2970       42      607        704000         2000    credit_card   \n",
      "4868      4869       42      607        704000         2000    credit_card   \n",
      "1362      1363       42      607        704000         2000    credit_card   \n",
      "691        692       78      878        154350            6          debit   \n",
      "2492      2493       78      834        102900            4          debit   \n",
      "3724      3725       78      766         77175            3    credit_card   \n",
      "4420      4421       78      969         77175            3          debit   \n",
      "4192      4193       78      787         77175            3    credit_card   \n",
      "3403      3404       78      928         77175            3          debit   \n",
      "2690      2691       78      962         77175            3          debit   \n",
      "2564      2565       78      915         77175            3          debit   \n",
      "4715      4716       78      818         77175            3          debit   \n",
      "1259      1260       78      775         77175            3    credit_card   \n",
      "2906      2907       78      817         77175            3          debit   \n",
      "3705      3706       78      828         51450            2    credit_card   \n",
      "3101      3102       78      855         51450            2    credit_card   \n",
      "4412      4413       78      756         51450            2          debit   \n",
      "3167      3168       78      927         51450            2           cash   \n",
      "490        491       78      936         51450            2          debit   \n",
      "4079      4080       78      946         51450            2           cash   \n",
      "1529      1530       78      810         51450            2           cash   \n",
      "4311      4312       78      960         51450            2          debit   \n",
      "2818      2819       78      869         51450            2          debit   \n",
      "2821      2822       78      814         51450            2           cash   \n",
      "617        618       78      760         51450            2           cash   \n",
      "2512      2513       78      935         51450            2          debit   \n",
      "511        512       78      967         51450            2           cash   \n",
      "2452      2453       78      709         51450            2           cash   \n",
      "493        494       78      983         51450            2           cash   \n",
      "2495      2496       78      707         51450            2           cash   \n",
      "4040      4041       78      852         25725            1           cash   \n",
      "4918      4919       78      823         25725            1           cash   \n",
      "1056      1057       78      800         25725            1          debit   \n",
      "2922      2923       78      740         25725            1          debit   \n",
      "2270      2271       78      855         25725            1    credit_card   \n",
      "1193      1194       78      944         25725            1          debit   \n",
      "1452      1453       78      812         25725            1    credit_card   \n",
      "3780      3781       78      889         25725            1           cash   \n",
      "4505      4506       78      866         25725            1          debit   \n",
      "2773      2774       78      890         25725            1           cash   \n",
      "3151      3152       78      745         25725            1    credit_card   \n",
      "1384      1385       78      867         25725            1           cash   \n",
      "3085      3086       78      910         25725            1           cash   \n",
      "2548      2549       78      861         25725            1           cash   \n",
      "160        161       78      990         25725            1    credit_card   \n",
      "4584      4585       78      997         25725            1           cash   \n",
      "1419      1420       78      912         25725            1           cash   \n",
      "3440      3441       78      982         25725            1          debit   \n",
      "1204      1205       78      970         25725            1    credit_card   \n",
      "1364      1365       42      797          1760            5           cash   \n",
      "1367      1368       42      926          1408            4           cash   \n",
      "1471      1472       42      907          1408            4          debit   \n",
      "3538      3539       43      830          1086            6          debit   \n",
      "4141      4142       54      733          1064            8          debit   \n",
      "3513      3514       42      726          1056            3          debit   \n",
      "2987      2988       42      819          1056            3           cash   \n",
      "938        939       42      808          1056            3    credit_card   \n",
      "3077      3078       89      754           980            5          debit   \n",
      "2494      2495       50      757           965            5          debit   \n",
      "1563      1564       91      934           960            6          debit   \n",
      "4847      4848       13      993           960            6           cash   \n",
      "2307      2308       61      723           948            6    credit_card   \n",
      "3532      3533       51      828           935            5           cash   \n",
      "1256      1257        6      942           935            5    credit_card   \n",
      "2560      2561        6      845           935            5    credit_card   \n",
      "2039      2040       11      756           920            5    credit_card   \n",
      "3073      3074       90      877           890            5          debit   \n",
      "1150      1151       82      853           885            5          debit   \n",
      "879        880       60      870           885            5          debit   \n",
      "4523      4524       26      995           880            5    credit_card   \n",
      "2032      2033       88      798           880            5           cash   \n",
      "4952      4953       26      786           880            5           cash   \n",
      "1946      1947       33      866           865            5           cash   \n",
      "4958      4959       70      711           865            5    credit_card   \n",
      "2353      2354       27      811           845            5           cash   \n",
      "1962      1963       46      879           830            5          debit   \n",
      "522        523       46      761           830            5    credit_card   \n",
      "2967      2968       46      774           830            5          debit   \n",
      "3865      3866       68      815           816            6          debit   \n",
      "1123      1124       29      911           815            5    credit_card   \n",
      "771        772       19      818           815            5          debit   \n",
      "3927      3928       97      979           810            5    credit_card   \n",
      "2757      2758       66      772           805            5    credit_card   \n",
      "3438      3439       66      842           805            5    credit_card   \n",
      "742        743       12      727           804            4           cash   \n",
      "1764      1765       12      789           804            4          debit   \n",
      "\n",
      "               created_at  \n",
      "2153   2017-03-12 4:00:00  \n",
      "3332   2017-03-24 4:00:00  \n",
      "520    2017-03-02 4:00:00  \n",
      "1602   2017-03-17 4:00:00  \n",
      "60     2017-03-04 4:00:00  \n",
      "2835   2017-03-28 4:00:00  \n",
      "4646   2017-03-02 4:00:00  \n",
      "2297   2017-03-07 4:00:00  \n",
      "1436   2017-03-11 4:00:00  \n",
      "4882   2017-03-25 4:00:00  \n",
      "4056   2017-03-28 4:00:00  \n",
      "15     2017-03-07 4:00:00  \n",
      "1104   2017-03-24 4:00:00  \n",
      "1562   2017-03-19 4:00:00  \n",
      "2969   2017-03-28 4:00:00  \n",
      "4868   2017-03-22 4:00:00  \n",
      "1362   2017-03-15 4:00:00  \n",
      "691   2017-03-27 22:51:43  \n",
      "2492   2017-03-04 4:37:34  \n",
      "3724  2017-03-16 14:13:26  \n",
      "4420  2017-03-09 15:21:35  \n",
      "4192   2017-03-18 9:25:32  \n",
      "3403   2017-03-16 9:45:05  \n",
      "2690   2017-03-22 7:33:25  \n",
      "2564   2017-03-25 1:19:35  \n",
      "4715   2017-03-05 5:10:44  \n",
      "1259   2017-03-27 9:27:20  \n",
      "2906   2017-03-16 3:45:46  \n",
      "3705  2017-03-14 20:43:15  \n",
      "3101   2017-03-21 5:10:34  \n",
      "4412   2017-03-02 4:13:39  \n",
      "3167  2017-03-12 12:23:08  \n",
      "490   2017-03-26 17:08:19  \n",
      "4079  2017-03-20 21:14:00  \n",
      "1529   2017-03-29 7:12:01  \n",
      "4311   2017-03-01 3:02:10  \n",
      "2818   2017-03-17 6:25:51  \n",
      "2821  2017-03-02 17:13:25  \n",
      "617   2017-03-18 11:18:42  \n",
      "2512  2017-03-18 18:57:13  \n",
      "511    2017-03-09 7:23:14  \n",
      "2452  2017-03-27 11:04:04  \n",
      "493   2017-03-16 21:39:35  \n",
      "2495   2017-03-26 4:38:52  \n",
      "4040  2017-03-02 14:31:12  \n",
      "4918  2017-03-15 13:26:46  \n",
      "1056  2017-03-15 10:16:45  \n",
      "2922  2017-03-12 20:10:58  \n",
      "2270  2017-03-14 23:58:22  \n",
      "1193  2017-03-16 16:38:26  \n",
      "1452  2017-03-17 18:09:54  \n",
      "3780  2017-03-11 21:14:50  \n",
      "4505  2017-03-22 22:06:01  \n",
      "2773  2017-03-26 10:36:43  \n",
      "3151  2017-03-18 13:13:07  \n",
      "1384  2017-03-17 16:38:06  \n",
      "3085   2017-03-26 1:59:27  \n",
      "2548  2017-03-17 19:36:00  \n",
      "160    2017-03-12 5:56:57  \n",
      "4584  2017-03-25 21:48:44  \n",
      "1419  2017-03-30 12:23:43  \n",
      "3440  2017-03-19 19:02:54  \n",
      "1204  2017-03-17 22:32:21  \n",
      "1364   2017-03-10 6:28:21  \n",
      "1367   2017-03-13 2:38:34  \n",
      "1471  2017-03-12 23:00:22  \n",
      "3538  2017-03-17 19:56:29  \n",
      "4141  2017-03-07 17:05:18  \n",
      "3513  2017-03-24 17:51:05  \n",
      "2987   2017-03-03 9:09:25  \n",
      "938   2017-03-13 23:43:45  \n",
      "3077   2017-03-13 5:27:58  \n",
      "2494   2017-03-04 7:32:45  \n",
      "1563   2017-03-23 8:25:49  \n",
      "4847  2017-03-27 11:00:45  \n",
      "2307  2017-03-26 11:29:37  \n",
      "3532  2017-03-17 16:05:35  \n",
      "1256  2017-03-12 19:49:08  \n",
      "2560  2017-03-16 22:24:30  \n",
      "2039  2017-03-04 10:51:41  \n",
      "3073   2017-03-26 8:08:27  \n",
      "1150  2017-03-24 20:47:47  \n",
      "879   2017-03-27 20:15:11  \n",
      "4523   2017-03-09 8:28:31  \n",
      "2032   2017-03-18 4:24:14  \n",
      "4952   2017-03-17 1:50:18  \n",
      "1946   2017-03-14 5:05:37  \n",
      "4958  2017-03-08 17:22:51  \n",
      "2353   2017-03-13 7:07:39  \n",
      "1962  2017-03-14 17:11:01  \n",
      "522   2017-03-26 19:07:51  \n",
      "2967   2017-03-23 9:22:12  \n",
      "3865   2017-03-11 9:31:50  \n",
      "1123   2017-03-26 0:53:49  \n",
      "771    2017-03-07 8:48:16  \n",
      "3927   2017-03-11 7:37:13  \n",
      "2757   2017-03-14 8:43:29  \n",
      "3438  2017-03-22 17:58:37  \n",
      "742   2017-03-14 16:38:01  \n",
      "1764   2017-03-03 3:10:50  \n"
     ]
    }
   ],
   "source": [
    "pd.set_option('display.max_columns', None)\n",
    "pd.set_option('display.max_rows', None)\n",
    "sorted_data_frame = data_frame.sort_values(by=['order_amount'], ascending=False)\n",
    "print (sorted_data_frame.head(100))"
   ]
  },
  {
   "cell_type": "code",
   "execution_count": 16,
   "id": "161b24b7-a295-4c4a-b9c0-14888184f455",
   "metadata": {},
   "outputs": [],
   "source": [
    "# We can see here that a lot of bulk purchases are there. They are affecting our calculations.\n",
    "# Another curious point is that bulk purchses are repeating on the same date and have the same shop id, user id, total_items for very differen bulk purchase order amount.\n"
   ]
  },
  {
   "cell_type": "code",
   "execution_count": 17,
   "id": "d743d729-5cdb-4a39-a0a8-774a523cad7f",
   "metadata": {},
   "outputs": [
    {
     "data": {
      "text/plain": [
       "' \\nI have two possible methods\\n    1. IQR(Inter quartile range) method to remove outliers and then calculate median of remaining data\\n    2. Calculating the mean of order amounts that lie in the IQR without removing outliers\\n'"
      ]
     },
     "execution_count": 17,
     "metadata": {},
     "output_type": "execute_result"
    }
   ],
   "source": [
    "# A better way to evaulate this data\n",
    "\"\"\" \n",
    "I have two possible methods\n",
    "    1. IQR(Inter quartile range) method to remove outliers and then calculate median of remaining data\n",
    "    2. Calculating the mean of order amounts that lie in the IQR without removing outliers\n",
    "\"\"\"\n",
    "# Detailed explanations below"
   ]
  },
  {
   "cell_type": "code",
   "execution_count": 19,
   "id": "68b0ce5f-289b-405d-9994-57a9cff2e722",
   "metadata": {},
   "outputs": [
    {
     "data": {
      "image/png": "[encoded data removed]",
      "text/plain": [
       "<Figure size 640x480 with 1 Axes>"
      ]
     },
     "metadata": {},
     "output_type": "display_data"
    }
   ],
   "source": [
    "# Method 1 IQR score -> remove outliers -> median\n",
    "\"\"\"\n",
    "IQR score calculation\n",
    "Calculate the first and third quartile (Q1 and Q3).\n",
    "Further, evaluate the interquartile range, IQR = Q3-Q1.\n",
    "Estimate the lower bound, the lower bound = Q1*1.5 (1.5*IQR rule)\n",
    "Estimate the upper bound, upper bound = Q3*1.5\n",
    "Remove the data points that lie outside of the lower and the upper bound.\n",
    "\"\"\"\n",
    "\n",
    "Q1 = data_frame.order_amount.quantile(0.25)\n",
    "Q2 = data_frame.order_amount.quantile(0.5)\n",
    "Q3 = data_frame.order_amount.quantile(0.75)\n",
    "IQR = Q3 - Q1\n",
    "\n",
    "# Creates new dataframe without outliers\n",
    "new_data_frame = data_frame[(data_frame.order_amount < Q2 + IQR * 1.5) & (data_frame.order_amount > Q2 - IQR * 1.5)]\n",
    "sns.boxplot(x=new_data_frame['order_amount'])\n",
    "plt.show()"
   ]
  },
  {
   "cell_type": "code",
   "execution_count": 20,
   "id": "36bf3c03-a0af-4ae9-b27d-72c480d0a9d3",
   "metadata": {},
   "outputs": [],
   "source": [
    "# We can see that the outliers have been removed from the new data frame. "
   ]
  },
  {
   "cell_type": "code",
   "execution_count": 21,
   "id": "c680d41c-05c9-47c6-a7b3-3151a3b72680",
   "metadata": {},
   "outputs": [
    {
     "name": "stdout",
     "output_type": "stream",
     "text": [
      "count    4738.000000\n",
      "mean      283.814268\n",
      "std       132.061996\n",
      "min        90.000000\n",
      "25%       161.000000\n",
      "50%       272.000000\n",
      "75%       362.000000\n",
      "max       624.000000\n",
      "Name: order_amount, dtype: float64\n",
      "median =  272.0\n"
     ]
    }
   ],
   "source": [
    "print (new_data_frame.order_amount.describe())\n",
    "print (\"median = \", new_data_frame.order_amount.median())"
   ]
  },
  {
   "cell_type": "code",
   "execution_count": null,
   "id": "91ddab1b-7aeb-4d49-a3a6-9a0867e51cc7",
   "metadata": {},
   "outputs": [],
   "source": [
    "#The AOV here is the median that is equal to $272"
   ]
  },
  {
   "cell_type": "code",
   "execution_count": 24,
   "id": "8a0e114f-1fd0-4814-8596-0e7579f6cd76",
   "metadata": {},
   "outputs": [
    {
     "name": "stdout",
     "output_type": "stream",
     "text": [
      "mean =  275.79761904761904\n"
     ]
    }
   ],
   "source": [
    "# Method 2: Mean of values in IQR without removing outliers\n",
    "dict2 = data_frame['order_amount'].value_counts().to_dict()\n",
    "l2 = (list(dict2.items()))\n",
    "l2.sort(reverse=True)\n",
    "\n",
    "sum=0\n",
    "count=0\n",
    "for i in range(0, len(l2)):\n",
    "    if (l2[i][0]<Q3 and l2[i][0]>Q1):\n",
    "        sum+=l2[i][0]\n",
    "        count+=1\n",
    "print (\"mean = \", sum/count)"
   ]
  },
  {
   "cell_type": "code",
   "execution_count": null,
   "id": "d6d5b0ac-8f00-49a8-957c-3a279ca59bd2",
   "metadata": {},
   "outputs": [],
   "source": [
    "#The AOV here is the mean that is equal to $275.79761904761904"
   ]
  },
  {
   "cell_type": "code",
   "execution_count": null,
   "id": "03bd46ca-321e-451b-b945-41400ed6a14c",
   "metadata": {},
   "outputs": [],
   "source": [
    "# b. What metric would you report for this dataset?"
   ]
  },
  {
   "cell_type": "code",
   "execution_count": null,
   "id": "00dbabac-990b-4895-a6de-f1992b189ef5",
   "metadata": {},
   "outputs": [],
   "source": [
    "\"\"\"\n",
    "The difference between the AOV value in both methods is very less. \n",
    "But Method 1 is better as it removes the outliers first and then works with the clean data.\n",
    "\"\"\""
   ]
  },
  {
   "cell_type": "code",
   "execution_count": null,
   "id": "b281237a-d336-4a9e-80d4-3f014dbdf2be",
   "metadata": {},
   "outputs": [],
   "source": [
    "# Therefore, the metric I would report is the median of new dataframe"
   ]
  },
  {
   "cell_type": "code",
   "execution_count": null,
   "id": "9059f456-687f-43b4-b889-3c96a1615bfc",
   "metadata": {},
   "outputs": [],
   "source": [
    "# What is its value?"
   ]
  }
 ],
 "metadata": {
  "kernelspec": {
   "display_name": "Python 3",
   "language": "python",
   "name": "python3"
  },
  "language_info": {
   "codemirror_mode": {
    "name": "ipython",
    "version": 3
   },
   "file_extension": ".py",
   "mimetype": "text/x-python",
   "name": "python",
   "nbconvert_exporter": "python",
   "pygments_lexer": "ipython3",
   "version": "3.7.8"
  }
 },
 "nbformat": 4,
 "nbformat_minor": 5
}
