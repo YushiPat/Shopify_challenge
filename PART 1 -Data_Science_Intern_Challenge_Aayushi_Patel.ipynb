{
 "cells": [
  {
   "cell_type": "code",
   "execution_count": 2,
   "id": "76015e08-af82-48cb-a133-b5384e1067e2",
   "metadata": {},
   "outputs": [],
   "source": [
    "#Summer 2022 Data Science Intern Challenge"
   ]
  },
  {
   "cell_type": "code",
   "execution_count": 3,
   "id": "75335a01-6bf8-4c24-a4ce-0dd407a524ec",
   "metadata": {},
   "outputs": [],
   "source": [
    "import numpy as np\n",
    "import pandas as pd\n",
    "import matplotlib.pyplot as plt\n",
    "import seaborn as sns"
   ]
  },
  {
   "cell_type": "code",
   "execution_count": 4,
   "id": "f79f6a3b-849e-4725-9f6b-4b7d306947d7",
   "metadata": {},
   "outputs": [
    {
     "name": "stdout",
     "output_type": "stream",
     "text": [
      "count      5000.000000\n",
      "mean       3145.128000\n",
      "std       41282.539349\n",
      "min          90.000000\n",
      "25%         163.000000\n",
      "50%         284.000000\n",
      "75%         390.000000\n",
      "max      704000.000000\n",
      "Name: order_amount, dtype: float64\n",
      "284.0\n"
     ]
    }
   ],
   "source": [
    "data_frame = pd.read_csv(\"2019 Winter Data Science Intern Challenge Data Set.csv\")\n",
    "\n",
    "print (data_frame.order_amount.describe())\n",
    "order_amount_array = data_frame['order_amount'].values[:, None]"
   ]
  },
  {
   "cell_type": "code",
   "execution_count": null,
   "id": "85bbb1fd-bf93-46b9-a576-e3f3642f989e",
   "metadata": {},
   "outputs": [],
   "source": []
  },
  {
   "cell_type": "code",
   "execution_count": null,
   "id": "65572a20-6bf7-4098-aeee-4e3ed271224b",
   "metadata": {},
   "outputs": [],
   "source": []
  },
  {
   "cell_type": "code",
   "execution_count": null,
   "id": "9a020e61-5f02-4b68-b549-3a4220f92d6d",
   "metadata": {},
   "outputs": [],
   "source": []
  },
  {
   "cell_type": "code",
   "execution_count": null,
   "id": "5100db84-a1ec-41a0-8211-d30ff829e2cd",
   "metadata": {},
   "outputs": [],
   "source": []
  }
 ],
 "metadata": {
  "kernelspec": {
   "display_name": "Python 3",
   "language": "python",
   "name": "python3"
  },
  "language_info": {
   "codemirror_mode": {
    "name": "ipython",
    "version": 3
   },
   "file_extension": ".py",
   "mimetype": "text/x-python",
   "name": "python",
   "nbconvert_exporter": "python",
   "pygments_lexer": "ipython3",
   "version": "3.7.8"
  }
 },
 "nbformat": 4,
 "nbformat_minor": 5
}
